{
  "nbformat": 4,
  "nbformat_minor": 0,
  "metadata": {
    "colab": {
      "provenance": []
    },
    "kernelspec": {
      "name": "python3",
      "display_name": "Python 3"
    },
    "language_info": {
      "name": "python"
    }
  },
  "cells": [
    {
      "cell_type": "code",
      "source": [
        "import nltk\n",
        "from nltk.corpus import words\n",
        "from itertools import permutations\n",
        "\n",
        "def extract_acronym_from_text(original_text):\n",
        "    words = original_text.split()\n",
        "    acronym_dict = {}\n",
        "\n",
        "    for i in range(len(words)):\n",
        "        if i == 0 or (i > 0 and words[i - 1][-1] in \".!?\"):\n",
        "            word = words[i]\n",
        "            acronym = word[0].upper()\n",
        "            acronym_dict[acronym] = word\n",
        "\n",
        "    return acronym_dict\n",
        "\n",
        "def find_possible_permutations(acronym_dict):\n",
        "    possible_permutations = []\n",
        "    for k in range(1, len(acronym_dict) + 1):\n",
        "        for permutation in permutations(acronym_dict.keys(), k):\n",
        "            formed_word = \"\".join(permutation)\n",
        "            possible_permutations.append(formed_word)\n",
        "\n",
        "    return possible_permutations\n",
        "\n",
        "def load_english_word_set():\n",
        "    nltk.download(\"words\")\n",
        "    return set(words.words())\n",
        "\n",
        "def is_word_in_english_dictionary(word, english_word_set):\n",
        "    return word.lower() in english_word_set\n",
        "\n",
        "def read_text_from_file(file_path):\n",
        "    with open(file_path, 'r') as file:\n",
        "        return file.read()\n",
        "\n",
        "# File path to your article.txt file\n",
        "file_path = \"article.txt\"\n",
        "\n",
        "# Load the article text from the file\n",
        "article_text = read_text_from_file(file_path)\n",
        "acronym_dict = extract_acronym_from_text(article_text)\n",
        "possible_permutations = find_possible_permutations(acronym_dict)\n",
        "\n",
        "english_word_set = load_english_word_set()\n",
        "\n",
        "print(\"Article Content:\")\n",
        "print(article_text)\n",
        "\n",
        "print(\"\\nEnglish:\")\n",
        "for permutation in possible_permutations:\n",
        "    if is_word_in_english_dictionary(permutation, english_word_set):\n",
        "        print(permutation)\n"
      ],
      "metadata": {
        "colab": {
          "base_uri": "https://localhost:8080/"
        },
        "id": "tMVU1wMXrLM1",
        "outputId": "19fedb3a-6651-4801-f517-c146a87bc2cf"
      },
      "execution_count": 1,
      "outputs": [
        {
          "output_type": "stream",
          "name": "stdout",
          "text": [
            "Article Content:\n",
            "Hari ini terjadi OTT anggota politik Jepang. Pelaku sudah diamankan oleh pihak yang bertugas. Enam orang terlibat dalam peristiwa ini. Kejadian ini membuat kita harus berhati-hati. Laporan ini akan populer dalam waktu yang cukup lama. Jepang mulai melakukan security check ke semua area. Peristiwa ini membuat masyarakat dunia panik dengan teroritsme.\"\n",
            "\n",
            "\n",
            "\n",
            "English:\n",
            "H\n",
            "P\n",
            "E\n",
            "K\n",
            "L\n",
            "J\n",
            "HE\n",
            "EH\n",
            "EL\n",
            "HEP\n",
            "ELK\n",
            "KEP\n",
            "LEK\n",
            "HELP\n",
            "KELP\n"
          ]
        },
        {
          "output_type": "stream",
          "name": "stderr",
          "text": [
            "[nltk_data] Downloading package words to /root/nltk_data...\n",
            "[nltk_data]   Package words is already up-to-date!\n"
          ]
        }
      ]
    }
  ]
}